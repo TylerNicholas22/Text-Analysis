{
 "cells": [
  {
   "cell_type": "code",
   "execution_count": 52,
   "metadata": {
    "collapsed": true
   },
   "outputs": [],
   "source": [
    "import nltk\n",
    "from nltk import bigrams\n",
    "from nltk import trigrams\n",
    "from nltk import ngrams\n",
    "from nltk.tokenize import word_tokenize\n",
    "from collections import Counter"
   ]
  },
  {
   "cell_type": "code",
   "execution_count": 61,
   "metadata": {
    "collapsed": false
   },
   "outputs": [],
   "source": [
    "text = nltk.word_tokenize(\"text stuff is fun and truck car what\")\n",
    "bi_text = bigrams(text)\n",
    "pos_text = nltk.pos_tag(text)\n",
    "new_list = []\n",
    "for item in pos_text:\n",
    "    item = item[1]\n",
    "    new_list.append(item)\n",
    "bi_text = bigrams(new_list)"
   ]
  },
  {
   "cell_type": "code",
   "execution_count": 62,
   "metadata": {
    "collapsed": false
   },
   "outputs": [],
   "source": [
    "bigram_counter = Counter(bi_text)\n",
    "token_counter = Counter(text)\n",
    "for item in bigram_counter:\n",
    "    token_counter[item] = bigram_counter[item]"
   ]
  },
  {
   "cell_type": "code",
   "execution_count": 64,
   "metadata": {
    "collapsed": false
   },
   "outputs": [
    {
     "data": {
      "text/plain": [
       "Counter({'and': 1,\n",
       "         'car': 1,\n",
       "         'fun': 1,\n",
       "         'is': 1,\n",
       "         'stuff': 1,\n",
       "         'text': 1,\n",
       "         'truck': 1,\n",
       "         'what': 1,\n",
       "         ('CC', 'NN'): 1,\n",
       "         ('JJ', 'CC'): 1,\n",
       "         ('NN', 'NN'): 2,\n",
       "         ('NN', 'VBZ'): 1,\n",
       "         ('NN', 'WP'): 1,\n",
       "         ('VBZ', 'JJ'): 1})"
      ]
     },
     "execution_count": 64,
     "metadata": {},
     "output_type": "execute_result"
    }
   ],
   "source": [
    "token_counter"
   ]
  },
  {
   "cell_type": "code",
   "execution_count": 67,
   "metadata": {
    "collapsed": true
   },
   "outputs": [],
   "source": [
    "def bigram_features(job_desc):\n",
    "    text = nltk.word_tokenize(job_desc)\n",
    "    bi_text = bigrams(text)\n",
    "    pos_text = nltk.pos_tag(text)\n",
    "    new_list = []\n",
    "    for item in pos_text:\n",
    "        item = item[1]\n",
    "        new_list.append(item)\n",
    "    bi_text = bigrams(new_list)\n",
    "    bigram_counter = Counter(bi_text)\n",
    "    token_counter = Counter(text)\n",
    "    for item in bigram_counter:\n",
    "        token_counter[item] = bigram_counter[item]\n",
    "    return token_counter"
   ]
  },
  {
   "cell_type": "code",
   "execution_count": 77,
   "metadata": {
    "collapsed": false
   },
   "outputs": [],
   "source": [
    "GW = bigram_features(\"Associate with men of good quality if you esteem your own reputation; for it is better to be alone than in bad company\")\n",
    "AH = bigram_features(\"A national debt, if it is not excessive, will be to us a national blessing.\")\n",
    "test_AH = bigram_features(\"A national debt, if it is not excessive, will be to us a national blessing.\")"
   ]
  },
  {
   "cell_type": "code",
   "execution_count": 78,
   "metadata": {
    "collapsed": true
   },
   "outputs": [],
   "source": [
    "AH_train = (AH,\"AH\")\n",
    "GW_train = (GW,\"GW\")\n",
    "train_set = [AH_train,GW_train]\n",
    "test_set = [(test_AH,\"AH\")]"
   ]
  },
  {
   "cell_type": "code",
   "execution_count": 79,
   "metadata": {
    "collapsed": true
   },
   "outputs": [],
   "source": [
    "classifier = nltk.NaiveBayesClassifier.train(train_set)"
   ]
  },
  {
   "cell_type": "code",
   "execution_count": 80,
   "metadata": {
    "collapsed": false
   },
   "outputs": [
    {
     "name": "stdout",
     "output_type": "stream",
     "text": [
      "1.0\n"
     ]
    }
   ],
   "source": [
    "print(nltk.classify.accuracy(classifier, test_set))"
   ]
  },
  {
   "cell_type": "code",
   "execution_count": 84,
   "metadata": {
    "collapsed": false
   },
   "outputs": [],
   "source": [
    "guess = classifier.classify(test_AH)"
   ]
  },
  {
   "cell_type": "code",
   "execution_count": 85,
   "metadata": {
    "collapsed": false
   },
   "outputs": [
    {
     "data": {
      "text/plain": [
       "'AH'"
      ]
     },
     "execution_count": 85,
     "metadata": {},
     "output_type": "execute_result"
    }
   ],
   "source": [
    "guess"
   ]
  },
  {
   "cell_type": "code",
   "execution_count": null,
   "metadata": {
    "collapsed": true
   },
   "outputs": [],
   "source": []
  }
 ],
 "metadata": {
  "kernelspec": {
   "display_name": "Python [Root]",
   "language": "python",
   "name": "Python [Root]"
  },
  "language_info": {
   "codemirror_mode": {
    "name": "ipython",
    "version": 2
   },
   "file_extension": ".py",
   "mimetype": "text/x-python",
   "name": "python",
   "nbconvert_exporter": "python",
   "pygments_lexer": "ipython2",
   "version": "2.7.11"
  }
 },
 "nbformat": 4,
 "nbformat_minor": 0
}
